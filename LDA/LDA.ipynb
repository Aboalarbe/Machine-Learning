{
 "cells": [
  {
   "cell_type": "markdown",
   "metadata": {},
   "source": [
    "## Some information about the Algorithm"
   ]
  },
  {
   "cell_type": "code",
   "execution_count": null,
   "metadata": {
    "collapsed": true
   },
   "outputs": [],
   "source": []
  },
  {
   "cell_type": "code",
   "execution_count": 8,
   "metadata": {},
   "outputs": [
    {
     "name": "stdout",
     "output_type": "stream",
     "text": [
      "Training samples is :  90\n",
      "Testing samples is :  60\n",
      "Training ......\n",
      "Accuracy is :  0.983333333333\n"
     ]
    }
   ],
   "source": [
    "from sklearn import datasets\n",
    "from sklearn.cross_validation import train_test_split\n",
    "from sklearn.metrics import accuracy_score\n",
    "from sklearn.discriminant_analysis import LinearDiscriminantAnalysis\n",
    "\n",
    "# load Iris dataset from sklearn \n",
    "iris =datasets.load_iris()\n",
    "features = iris.data\n",
    "# print (features)\n",
    "labels = iris.target\n",
    "# print(labels)\n",
    "\n",
    "# split the data to 60% training and 40% testing\n",
    "x_train,x_test,y_train,y_test=train_test_split(features,labels,test_size=.4)\n",
    "print('Training samples is : ',len(x_train))\n",
    "print('Testing samples is : ', len((x_test)))\n",
    "\n",
    "LDA = LinearDiscriminantAnalysis()\n",
    "clf = LDA.fit(x_train,y_train)\n",
    "predictions = LDA.predict(x_test)\n",
    "print('Training ......')\n",
    "print ('Accuracy is : ',accuracy_score(y_test,predictions))"
   ]
  }
 ],
 "metadata": {
  "kernelspec": {
   "display_name": "Python 3",
   "language": "python",
   "name": "python3"
  },
  "language_info": {
   "codemirror_mode": {
    "name": "ipython",
    "version": 3
   },
   "file_extension": ".py",
   "mimetype": "text/x-python",
   "name": "python",
   "nbconvert_exporter": "python",
   "pygments_lexer": "ipython3",
   "version": "3.6.1"
  }
 },
 "nbformat": 4,
 "nbformat_minor": 2
}
